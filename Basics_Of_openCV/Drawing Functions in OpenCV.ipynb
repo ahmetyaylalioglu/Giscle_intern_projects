{
 "cells": [
  {
   "cell_type": "markdown",
   "metadata": {},
   "source": [
    "# Basics of Shapes"
   ]
  },
  {
   "cell_type": "raw",
   "metadata": {},
   "source": [
    "The OpenCV provides some of the readymade functions to draw different shapes.These are as follows:\n",
    "     1)cv2.line()\n",
    "     2)cv2.circle() \n",
    "     3)cv2.rectangle()\n",
    "     4)cv2.ellipse()\n",
    "     5)cv2.putText() etc.\n",
    "In all the  functions, you will see some common arguments as given below:\n",
    "\n",
    "img : The image where you want to draw the shapes\n",
    "color : Color of the shape. for BGR, pass it as a tuple, eg: (255,0,0) for blue. For grayscale, just pass the scalar value.\n",
    "thickness : Thickness of the line or circle etc. If **-1** is passed for closed figures like circles, it will fill the shape. default thickness = 1\n",
    "lineType : Type of line, whether 8-connected, anti-aliased line etc. \n",
    "By default, it is 8-connected. cv2.LINE_AA gives anti-aliased line which looks great for curves."
   ]
  },
  {
   "cell_type": "markdown",
   "metadata": {},
   "source": [
    "## Drawing Line "
   ]
  },
  {
   "cell_type": "raw",
   "metadata": {},
   "source": [
    "To draw a line, you need to pass starting and ending coordinates of line.The OpenCV has cv2.line() function which is used to draw a line.\n",
    "It takes following arguments:\n",
    "    1) object on which you want to draw a line\n",
    "    2) Starting and ending coordinates \n",
    "    3) Color of the shape. for BGR, pass it as a tuple, eg: (255,0,0) for blue. For grayscale, just pass the scalar value.\n",
    "    4) Thickness of the line.\n",
    "    5) Type of Line :LINE_AA for anti-aliasing line. By default it is not anti-aliased means a zigzag or rough surface \n",
    "        will be noticed\n",
    "     "
   ]
  },
  {
   "cell_type": "code",
   "execution_count": 1,
   "metadata": {},
   "outputs": [],
   "source": [
    "import cv2"
   ]
  },
  {
   "cell_type": "markdown",
   "metadata": {},
   "source": [
    "## Program to Draw a line on Image"
   ]
  },
  {
   "cell_type": "code",
   "execution_count": 1,
   "metadata": {},
   "outputs": [],
   "source": [
    "# Step 1: - Import the necessary packages\n",
    "import cv2\n",
    "# Step 2 :- Create the object to hold an image\n",
    "img=cv2.imread(\"Data/goruntu01.jpg\",1)\n",
    "#Step 3:- Draw the shape on the object by passing parameters\n",
    "# Draw a diagonal blue line with thickness of 5 px\n",
    "line=cv2.line(img,(0,0),(511,511),(255,0,0),5)# Here the parameters are objectname,starting & ending coordinate,color,thickness\n",
    "#Prevent GUI crash\n",
    "cv2.startWindowThread()\n",
    "#Step 4:- Display the image\n",
    "cv2.imshow(\"Display\",line)\n",
    "#Step 5:- Save a image\n",
    "cv2.imwrite(\"OUTPUTS/LINEONIMAGE2.jpg\",line)\n",
    "#Step 6:- Clear all the things when done\n",
    "cv2.waitKey(0)\n",
    "cv2.destroyAllWindows()"
   ]
  },
  {
   "cell_type": "markdown",
   "metadata": {},
   "source": [
    "# Drawing a rectangle"
   ]
  },
  {
   "cell_type": "markdown",
   "metadata": {},
   "source": [
    "To draw a rectangle, you need top-left corner and bottom-right corner of rectangle. \n",
    "The OpenCV provides cv.rectangle() to draw  a rectangle onto the image."
   ]
  },
  {
   "cell_type": "markdown",
   "metadata": {},
   "source": [
    "## Program to Draw a Rectangle"
   ]
  },
  {
   "cell_type": "code",
   "execution_count": 12,
   "metadata": {},
   "outputs": [],
   "source": [
    "# Step 1: - Import the necessary packages\n",
    "import cv2\n",
    "# Step 2 :- Create the object to hold an image\n",
    "img=cv2.imread(\"Data/goruntu01.jpg\",1)\n",
    "#Step 3:- Draw the shape on the object by passing parameters\n",
    "# Drawing a green rectangle at  the mentioned coordinate with specified thickness of 3\n",
    "rect=cv2.rectangle(img,(400,70),(510,128),(0,255,0),3)\n",
    "#Prevent GUI crash\n",
    "cv2.startWindowThread()\n",
    "#Step 4:- Display the image\n",
    "cv2.imshow(\"Display\",rect)\n",
    "# Step 5: Save a image\n",
    "cv2.imwrite(\"OUTPUTS/RECTONIMAGE2.jpg\",rect)\n",
    "#Step 6:- Clear all the things when done\n",
    "cv2.waitKey(0)\n",
    "cv2.destroyAllWindows()"
   ]
  },
  {
   "cell_type": "markdown",
   "metadata": {},
   "source": [
    "# Drawing a Circle"
   ]
  },
  {
   "cell_type": "markdown",
   "metadata": {},
   "source": [
    "To draw a circle, you need its center coordinates and radius.The OpenCV provides cv2.circle() to draw a circle onto image."
   ]
  },
  {
   "cell_type": "markdown",
   "metadata": {},
   "source": [
    "# Program to draw a Circle"
   ]
  },
  {
   "cell_type": "code",
   "execution_count": 13,
   "metadata": {},
   "outputs": [],
   "source": [
    "# Step 1: - Import the necessary packages\n",
    "import cv2\n",
    "# Step 2 :- Create the object to hold an image\n",
    "img=cv2.imread(\"Data/goruntu01.jpg\",1)\n",
    "#Step 3:- Draw the shape on the object by passing parameters\n",
    "# Drawing a red circle at  the mentioned coordinate with specified thickness of -1\n",
    "# This will take image object ,statrting position ,radius of the circle,color and thickness\n",
    "circle=cv2.circle(img,(447,63), 63, (147,0,255), -1)# it will draw a solid cirle \n",
    "#Prevent GUI crash\n",
    "cv2.startWindowThread()\n",
    "#Step 4:- Display the image\n",
    "cv2.imshow(\"Display\",circle)\n",
    "#Step 5:- Save an image\n",
    "cv2.imwrite(\"OUTPUTS/CIRCLEONIMAGE2.jpg\",circle)\n",
    "# Step 6:- Clear all the things when done\n",
    "cv2.waitKey(0)\n",
    "cv2.destroyAllWindows()"
   ]
  },
  {
   "cell_type": "markdown",
   "metadata": {},
   "source": [
    "# Program to draw a Circle with specified thickness"
   ]
  },
  {
   "cell_type": "code",
   "execution_count": 15,
   "metadata": {},
   "outputs": [],
   "source": [
    "# Step 1: - Import the necessary packages\n",
    "import cv2\n",
    "# Step 2 :- Create the object to hold an image\n",
    "img=cv2.imread(\"Data/goruntu01.jpg\",1)\n",
    "#Step 3:- Draw the shape on the object by passing parameters\n",
    "# Drawing a red circle at  the mentioned coordinate with specified thickness of 2\n",
    "# This will take image object ,statrting position ,radius of the circle,color and thickness\n",
    "cwth=cv2.circle(img,(447,63), 63, (0,0,255), 2)# it will draw a hollow cicle of thickness 2 \n",
    "#Prevent GUI crash\n",
    "cv2.startWindowThread()\n",
    "#Step 4:- Display the image\n",
    "cv2.imshow(\"Display\",cwth)\n",
    "# STEP 5:- SAVE THE IMAGE\n",
    "cv2.imwrite(\"OUTPUTS/CIRCLEWITHTHICKNESS2.jpg\",cwth)\n",
    "# STEP 6:- CLEAR all the things\n",
    "cv2.waitKey(0)\n",
    "cv2.destroyAllWindows()"
   ]
  },
  {
   "cell_type": "markdown",
   "metadata": {},
   "source": [
    "# Drawing Ellipse"
   ]
  },
  {
   "cell_type": "markdown",
   "metadata": {},
   "source": [
    "To draw the ellipse, we need to pass several arguments. One argument is the center location (x,y). \n",
    "Next argument is axes lengths (major axis length, minor axis length). angle is the angle of rotation of ellipse in anti-clockwise direction. startAngle and endAngle denotes the starting and ending of ellipse arc measured in clockwise direction from major axis. i.e. giving values 0 and 360 gives the full ellipse."
   ]
  },
  {
   "cell_type": "markdown",
   "metadata": {},
   "source": [
    "## Program to Draw an Ellipse"
   ]
  },
  {
   "cell_type": "code",
   "execution_count": 16,
   "metadata": {},
   "outputs": [],
   "source": [
    "# Step 1: - Import the necessary packages\n",
    "import cv2\n",
    "# Step 2 :- Create the object to hold an image\n",
    "img=cv2.imread(\"Data/goruntu01.jpg\",1)\n",
    "#Step 3:- Draw the shape on the object by passing parameters\n",
    "# The arguments passed are image object,centre location(x,y),axes length(major and minor),angle of rotation,start and \n",
    "# end angle, Color,thickness\n",
    "el=cv2.ellipse(img,(256,256),(100,50),0,0,360,(140,50,170),3) \n",
    "#Prevent GUI crash\n",
    "cv2.startWindowThread()\n",
    "#Step 4:- Display the image\n",
    "cv2.imshow(\"Display\",el)\n",
    "# STEP 5:- SAVE IMAGE\n",
    "cv2.imwrite(\"OUTPUTS/ELLIPSEONIMAGE2.jpg\",el)\n",
    "# STEP 6: Clear all the things when done\n",
    "cv2.waitKey(0)\n",
    "cv2.destroyAllWindows()"
   ]
  },
  {
   "cell_type": "markdown",
   "metadata": {},
   "source": [
    "# Adding Text to the Image"
   ]
  },
  {
   "cell_type": "raw",
   "metadata": {},
   "source": [
    "To put texts in images, you need specify following things.\n",
    "Text data that you want to write\n",
    "Position coordinates of where you want put it (i.e. bottom-left corner where data starts).\n",
    "Font type (Check cv2.putText() docs for supported fonts)\n",
    "Font Scale (specifies the size of font)\n",
    "regular things like color, thickness, lineType etc. For better look, lineType = cv2.LINE_AA is recommended."
   ]
  },
  {
   "cell_type": "code",
   "execution_count": 2,
   "metadata": {},
   "outputs": [],
   "source": [
    "# Step 1: - Import the necessary packages\n",
    "import cv2\n",
    "# Step 2 :- Create the object to hold an image\n",
    "img=cv2.imread(\"Data/goruntu01.jpg\")\n",
    "#Step 3:- Put the text on the object by passing parameters\n",
    "font = cv2.FONT_HERSHEY_SIMPLEX\n",
    "txt=cv2.putText(img,'AhmetAnil',(20,500), font, 4,(201,220,220),8,cv2.LINE_AA)#cv2.LINE_AA is for anti-aliasing.It is optional\n",
    "#Prevent GUI crash\n",
    "cv2.startWindowThread()\n",
    "#Step 4:- Display the image\n",
    "cv2.imshow(\"Display\",txt)\n",
    "#STEP 5:- Save Image\n",
    "cv2.imwrite(\"OUTPUTS/TEXTONIMAGE2.jpg\",txt)\n",
    "# Step 6:- Clear all the things when done\n",
    "cv2.waitKey(0)\n",
    "cv2.destroyAllWindows()"
   ]
  },
  {
   "cell_type": "code",
   "execution_count": null,
   "metadata": {},
   "outputs": [],
   "source": []
  }
 ],
 "metadata": {
  "kernelspec": {
   "display_name": "Python 3",
   "language": "python",
   "name": "python3"
  },
  "language_info": {
   "codemirror_mode": {
    "name": "ipython",
    "version": 3
   },
   "file_extension": ".py",
   "mimetype": "text/x-python",
   "name": "python",
   "nbconvert_exporter": "python",
   "pygments_lexer": "ipython3",
   "version": "3.6.1"
  }
 },
 "nbformat": 4,
 "nbformat_minor": 2
}
