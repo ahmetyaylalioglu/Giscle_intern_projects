{
 "cells": [
  {
   "cell_type": "code",
   "execution_count": null,
   "metadata": {},
   "outputs": [],
   "source": [
    "def gamma_correction_auto(RGBimage,equalizeHist = False): #0.35\n",
    "    originalFile = RGBimage.copy()\n",
    "    red = RGBimage[:,:,2]\n",
    "    green = RGBimage[:,:,1]\n",
    "    blue = RGBimage[:,:,0]\n",
    "    \n",
    "    forLuminance = cv2.cvtColor(originalFile,cv2.COLOR_BGR2YUV)\n",
    "    Y = forLuminance[:,:,0]\n",
    "    totalPix = vidsize[0]* vidsize[1]\n",
    "    summ = np.sum(Y[:,:])\n",
    "    Yaverage = np.divide(totalPix,summ)\n",
    "    #Yclipped = np.clip(Yaverage,0,1)\n",
    "    epsilon = 1.19209e-007\n",
    "    correct_param = np.divide(-0.3,np.log10([Yaverage + epsilon]))\n",
    "    correct_param = 0.7 - correct_param \n",
    "\n",
    "    red = red/255.0\n",
    "    red = cv2.pow(red, correct_param)\n",
    "    red = np.uint8(red*255)\n",
    "    if equalizeHist:\n",
    "        red = cv2.equalizeHist(red)\n",
    "    \n",
    "    green = green/255.0\n",
    "    green = cv2.pow(green, correct_param)\n",
    "    green = np.uint8(green*255)\n",
    "    if equalizeHist:\n",
    "        green = cv2.equalizeHist(green)\n",
    "        \n",
    "    \n",
    "    blue = blue/255.0\n",
    "    blue = cv2.pow(blue, correct_param)\n",
    "    blue = np.uint8(blue*255)\n",
    "    if equalizeHist:\n",
    "        blue = cv2.equalizeHist(blue)\n",
    "    \n",
    "\n",
    "    output = cv2.merge((blue,green,red))\n",
    "    #print(correct_param)\n",
    "    return output"
   ]
  }
 ],
 "metadata": {
  "kernelspec": {
   "display_name": "Python 3",
   "language": "python",
   "name": "python3"
  },
  "language_info": {
   "codemirror_mode": {
    "name": "ipython",
    "version": 3
   },
   "file_extension": ".py",
   "mimetype": "text/x-python",
   "name": "python",
   "nbconvert_exporter": "python",
   "pygments_lexer": "ipython3",
   "version": "3.6.1"
  }
 },
 "nbformat": 4,
 "nbformat_minor": 2
}
