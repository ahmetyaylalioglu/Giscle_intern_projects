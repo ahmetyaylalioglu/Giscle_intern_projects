{
 "cells": [
  {
   "cell_type": "code",
   "execution_count": 1,
   "metadata": {},
   "outputs": [],
   "source": [
    "import cv2\n",
    "import numpy as np"
   ]
  },
  {
   "cell_type": "code",
   "execution_count": 2,
   "metadata": {},
   "outputs": [],
   "source": [
    "cap = cv2.VideoCapture(\"dataset/small_nightRoad.mp4\")\n",
    "vidsize = (640,480,3)"
   ]
  },
  {
   "cell_type": "code",
   "execution_count": 3,
   "metadata": {},
   "outputs": [],
   "source": [
    "def gamma_correction(image, correct_param):\n",
    "    image = image/255.0\n",
    "    image = cv2.pow(image, correct_param)\n",
    "    return np.uint8(image*255)"
   ]
  },
  {
   "cell_type": "code",
   "execution_count": 4,
   "metadata": {},
   "outputs": [],
   "source": [
    "#GAMMA CORRECTION\n",
    "cv2.namedWindow('input')\n",
    "cv2.namedWindow('output')\n",
    "colors = np.zeros((3))\n",
    "\n",
    "out = np.zeros_like((vidsize))\n",
    "\n",
    "while cap.isOpened():\n",
    "    ret,image_np = cap.read()\n",
    "    if ret == True:\n",
    "        red = image_np[:,:,2]\n",
    "        green = image_np[:,:,1]\n",
    "        blue = image_np[:,:,0]\n",
    "        blue=gamma_correction(blue, 0.35)\n",
    "        green=gamma_correction(green, 0.35)\n",
    "        red=gamma_correction(red, 0.35)\n",
    "        \n",
    "        out = cv2.merge((blue,green,red))\n",
    "        \n",
    "        cv2.imshow('input', image_np)\n",
    "        cv2.imshow('output', out)\n",
    "        if cv2.waitKey(25) & 0xFF == ord('q'):\n",
    "            cv2.destroyAllWindows()\n",
    "            break\n",
    "    else:\n",
    "        break\n",
    " \n",
    "\n",
    "\n",
    "cap.release()               \n",
    "cv2.destroyAllWindows()        "
   ]
  },
  {
   "cell_type": "code",
   "execution_count": null,
   "metadata": {},
   "outputs": [],
   "source": []
  }
 ],
 "metadata": {
  "kernelspec": {
   "display_name": "Python 3",
   "language": "python",
   "name": "python3"
  },
  "language_info": {
   "codemirror_mode": {
    "name": "ipython",
    "version": 3
   },
   "file_extension": ".py",
   "mimetype": "text/x-python",
   "name": "python",
   "nbconvert_exporter": "python",
   "pygments_lexer": "ipython3",
   "version": "3.6.1"
  }
 },
 "nbformat": 4,
 "nbformat_minor": 2
}
